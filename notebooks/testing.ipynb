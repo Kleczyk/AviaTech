{
 "cells": [
  {
   "metadata": {
    "ExecuteTime": {
     "end_time": "2024-05-18T23:09:14.566061Z",
     "start_time": "2024-05-18T23:09:08.283863Z"
    }
   },
   "cell_type": "code",
   "source": [
    "!pip install opencv-python\n",
    "!pip install face_recognition opencv-python\n"
   ],
   "id": "c4f376abf53219cb",
   "execution_count": 28,
   "outputs": []
  },
  {
   "metadata": {
    "ExecuteTime": {
     "end_time": "2024-05-18T23:09:14.578268Z",
     "start_time": "2024-05-18T23:09:14.572095Z"
    }
   },
   "cell_type": "code",
   "source": [
    "import face_recognition\n",
    "import numpy as np\n",
    "from scipy.spatial import distance\n",
    "import os\n",
    "import urllib.request\n",
    "import tarfile"
   ],
   "id": "a28dd71df6f594d1",
   "execution_count": 29,
   "outputs": []
  },
  {
   "metadata": {
    "ExecuteTime": {
     "end_time": "2024-05-18T23:09:14.599655Z",
     "start_time": "2024-05-18T23:09:14.580700Z"
    }
   },
   "cell_type": "code",
   "source": [
    "def download_and_extract_lfw_dataset(url, extract_path):\n",
    "    if not os.path.exists(extract_path):\n",
    "        os.makedirs(extract_path)\n",
    "    tar_path = os.path.join(extract_path, 'lfw.tgz')\n",
    "    if not os.path.exists(tar_path):\n",
    "        print(\"Downloading LFW dataset...\")\n",
    "        urllib.request.urlretrieve(url, tar_path)\n",
    "    if not os.path.exists(os.path.join(extract_path, 'lfw')):\n",
    "        print(\"Extracting LFW dataset...\")\n",
    "        with tarfile.open(tar_path, \"r:gz\") as tar:\n",
    "            tar.extractall(path=extract_path)\n",
    "    print(\"LFW dataset is ready.\")\n",
    "\n",
    "\n",
    "lfw_url = \"http://vis-www.cs.umass.edu/lfw/lfw.tgz\"\n",
    "lfw_extract_path = \"./lfw_dataset\"\n",
    "\n",
    "download_and_extract_lfw_dataset(lfw_url, lfw_extract_path)\n",
    "\n",
    "lfw_images_dir = os.path.join(lfw_extract_path, \"lfw\")\n",
    "\n",
    "reference_image_path = os.path.join(lfw_images_dir, \"George_W_Bush\", \"George_W_Bush_0001.jpg\")\n",
    "\n",
    "\n",
    "def extract_face_encodings(image_path):\n",
    "    if not os.path.exists(image_path):\n",
    "        raise ValueError(f\"File does not exist: {image_path}\")\n",
    "    image = face_recognition.load_image_file(image_path)\n",
    "    face_encodings = face_recognition.face_encodings(image)\n",
    "    if len(face_encodings) == 0:\n",
    "        raise ValueError(f\"No face found in image: {image_path}\")\n",
    "    return face_encodings[0]\n",
    "\n",
    "\n",
    "def compare_faces(encoding1, encoding2, tolerance=0.6, method='euclidean'):\n",
    "    if method == 'euclidean':\n",
    "        return distance.euclidean(encoding1, encoding2) < tolerance\n",
    "    elif method == 'cosine':\n",
    "        return distance.cosine(encoding1, encoding2) < tolerance\n",
    "    else:\n",
    "        raise ValueError(\"Unsupported comparison method\")\n",
    "\n",
    "#\n"
   ],
   "id": "d226e4aa13a9afb",
   "execution_count": 30,
   "outputs": []
  },
  {
   "metadata": {
    "ExecuteTime": {
     "end_time": "2024-05-18T23:09:14.619443Z",
     "start_time": "2024-05-18T23:09:14.604946Z"
    }
   },
   "cell_type": "code",
   "source": [
    "results = []\n",
    "correct_euclidean = 0\n",
    "correct_cosine = 0\n",
    "incorrect_euclidean = 0\n",
    "incorrect_cosine = 0\n"
   ],
   "id": "e1bcf685af0b34da",
   "execution_count": 31,
   "outputs": []
  },
  {
   "metadata": {
    "ExecuteTime": {
     "end_time": "2024-05-18T23:12:00.960646Z",
     "start_time": "2024-05-18T23:09:14.623337Z"
    }
   },
   "cell_type": "code",
   "source": [
    "for test_image_path in test_image_paths[:1000]:  # Testowanie na \n",
    "    try:\n",
    "        test_encoding = extract_face_encodings(test_image_path)\n",
    "        euclidean_match = compare_faces(reference_encoding, test_encoding, method='euclidean')\n",
    "        cosine_match = compare_faces(reference_encoding, test_encoding, method='cosine')\n",
    "\n",
    "        if euclidean_match:\n",
    "            correct_euclidean += 1\n",
    "        else:\n",
    "            incorrect_euclidean += 1\n",
    "\n",
    "        if cosine_match:\n",
    "            correct_cosine += 1\n",
    "        else:\n",
    "            incorrect_cosine += 1\n",
    "\n",
    "        results.append({\n",
    "            'image_path': test_image_path,\n",
    "            'euclidean_match': euclidean_match,\n",
    "            'cosine_match': cosine_match\n",
    "        })\n",
    "    except ValueError as e:\n",
    "        results.append({\n",
    "            'image_path': test_image_path,\n",
    "            'error': str(e)\n",
    "        })\n"
   ],
   "id": "94e97b6318b049b",
   "execution_count": 32,
   "outputs": []
  },
  {
   "metadata": {
    "ExecuteTime": {
     "end_time": "2024-05-18T23:12:00.989589Z",
     "start_time": "2024-05-18T23:12:00.961948Z"
    }
   },
   "cell_type": "code",
   "source": [
    "for result in results:\n",
    "    print(f\"Image: {result['image_path']}\")\n",
    "    if 'error' in result:\n",
    "        print(f\"Error: {result['error']}\")\n",
    "    else:\n",
    "        print(f\"Euclidean Match: {result['euclidean_match']}\")\n",
    "        print(f\"Cosine Match: {result['cosine_match']}\")\n",
    "    print('-' * 30)"
   ],
   "id": "57cd1e00f7826abc",
   "execution_count": 33,
   "outputs": []
  },
  {
   "metadata": {
    "ExecuteTime": {
     "end_time": "2024-05-18T23:12:00.999844Z",
     "start_time": "2024-05-18T23:12:00.993022Z"
    }
   },
   "cell_type": "code",
   "source": [
    "\n",
    "total_tests = correct_euclidean + incorrect_euclidean  # Liczba \n",
    "accuracy_euclidean = (correct_euclidean / total_tests) * 100 if total_tests > 0 else 0\n",
    "accuracy_cosine = (correct_cosine / total_tests) * 100 if total_tests > 0 else 0\n",
    "\n",
    "print(f\"Total tests: {total_tests}\")\n",
    "# print(f\"Euclidean - Correct: {correct_euclidean}, Incorrect: {incorrect_euclidean}, Accuracy: {accuracy_euclidean:.2f}%\")\n",
    "print(f\"Cosine - Correct: {correct_cosine}, Incorrect: {incorrect_cosine}, Accuracy: {accuracy_cosine:.2f}%\")"
   ],
   "id": "3019f9d2668c912e",
   "execution_count": 34,
   "outputs": []
  }
 ],
 "metadata": {
  "kernelspec": {
   "display_name": "Python (EEG311)",
   "language": "python",
   "name": "eeg311"
  },
  "language_info": {
   "codemirror_mode": {
    "name": "ipython",
    "version": 2
   },
   "file_extension": ".py",
   "mimetype": "text/x-python",
   "name": "python",
   "nbconvert_exporter": "python",
   "pygments_lexer": "ipython2",
   "version": "2.7.6"
  }
 },
 "nbformat": 4,
 "nbformat_minor": 5
}
